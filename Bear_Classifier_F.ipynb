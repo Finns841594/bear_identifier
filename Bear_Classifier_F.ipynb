{
 "cells": [
  {
   "cell_type": "code",
   "execution_count": 3,
   "id": "a76235a1",
   "metadata": {},
   "outputs": [],
   "source": [
    "!pip install -Uqq fastbook #用以安装fastbook（如未）或升级fastbook（如已安装）\n",
    "import fastbook\n",
    "from fastai.vision.all import *\n",
    "from fastai.vision.widgets import *"
   ]
  },
  {
   "cell_type": "markdown",
   "id": "493f8618",
   "metadata": {},
   "source": [
    "## The Bear Classifier!\n",
    "Feng's practcing bear classifier online app learned from fastai course. Have a try on your photo! let my ai tells you what bear is in your photo. My ai has only three answers, grizzly bear, brown bear, and tiddy bear."
   ]
  },
  {
   "cell_type": "code",
   "execution_count": null,
   "id": "cbec1b7b",
   "metadata": {},
   "outputs": [],
   "source": [
    "btn_upload = widgets.FileUpload() #调用Fileupload小组件以提供上传图片的接口\n",
    "lbl_pred = widgets.Label() #这是干啥的？\n",
    "out_pl = widgets.Output() #调用Output小组件以显示上传的图片\n",
    "path = Path() #这是干啥的？\n",
    "learn_inf = load_learner(path/'export.pkl', cpu = True) #用load_learner加载之前的训练结果"
   ]
  },
  {
   "cell_type": "code",
   "execution_count": null,
   "id": "9c1c3bc5",
   "metadata": {},
   "outputs": [],
   "source": [
    "def on_click(change):\n",
    "    img = PILImage.create(btn_upload.data[-1]) #抓取上传的图片\n",
    "    out_pl.clear_output() #清空output小组件的上一个结果\n",
    "    with out_pl: display(img.to_thumb(128,128)) #让out_pl这个place holder按照with后面的设定显示图片\n",
    "    pred, pred_idx, probs = learn_inf.predict(img)\n",
    "    lbl_pred.value = f'Prediction: {pred}; Probability: {probs[pred_idx]:.04f}'"
   ]
  },
  {
   "cell_type": "code",
   "execution_count": null,
   "id": "10ade276",
   "metadata": {},
   "outputs": [],
   "source": [
    "btn_upload.observe(on_click, names=['data']) #这是干啥的"
   ]
  },
  {
   "cell_type": "code",
   "execution_count": null,
   "id": "7ae17a71",
   "metadata": {},
   "outputs": [],
   "source": [
    "display(VBox([widgets.Label('Select your bear!'), btn_upload, out_pl, lbl_pred])) \n",
    "#把所有的东西放到一个VBox里，依次是：\n",
    "#一句“Select your bear！”\n",
    "#（输入）上传按钮\n",
    "#（输入的预览）上传图片的预览\n",
    "#（输出）按照格式显示的预测结果"
   ]
  }
 ],
 "metadata": {
  "kernelspec": {
   "display_name": "Python 3 (ipykernel)",
   "language": "python",
   "name": "python3"
  },
  "language_info": {
   "codemirror_mode": {
    "name": "ipython",
    "version": 3
   },
   "file_extension": ".py",
   "mimetype": "text/x-python",
   "name": "python",
   "nbconvert_exporter": "python",
   "pygments_lexer": "ipython3",
   "version": "3.7.11"
  }
 },
 "nbformat": 4,
 "nbformat_minor": 5
}
